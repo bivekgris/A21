{
 "cells": [
  {
   "cell_type": "code",
   "execution_count": null,
   "metadata": {},
   "outputs": [],
   "source": [
    "import pandas as pd\n",
    "import numpy as np\n",
    "%matplotlib inline\n",
    "import otter\n",
    "grader = otter.Notebook()"
   ]
  },
  {
   "cell_type": "markdown",
   "metadata": {},
   "source": [
    "# A2 | Week 3: Practice More on Lists and Dictionaries\n",
    "\n",
    "------\n",
    "\n",
    "### Instructions:\n",
    "\n",
    "- Complete 50 points worth of questions to pass the assessment\n",
    "  - You can attempt any number of questions and in any order provided you pass at least 50 points.\n",
    "- Develop and check your answers in the spaces provided.\n",
    "  - Do not remove any variables other provided markings already present in the answer spaces.\n",
    "  - Do not make any changes to this notebook outside of the answer spaces provided.\n",
    "  \n",
    "#### Submitting\n",
    "\n",
    "- Upload your .ipynb file to Gradescope (Make sure to restart the kernel and run all before you submit)\n",
    "- You can submit as many times as needed\n",
    "- When reviewing results, ignore any results listed under \"Public Tests\"\n",
    "\n",
    "For more information, see the assessment page. We have also provided an example question below for clarity. "
   ]
  },
  {
   "cell_type": "markdown",
   "metadata": {},
   "source": [
    "#### Question 1&nbsp;&nbsp;&nbsp;&nbsp;&nbsp;&nbsp;(3 Points)\n",
    "\n",
    "Complete the following function `q1_create_lists` that returns a list of first 5 natural numbers `1,2,3,4,5` in a list named `q1_list`. \n",
    "\n"
   ]
  },
  {
   "cell_type": "code",
   "execution_count": 28,
   "metadata": {
    "tags": []
   },
   "outputs": [
    {
     "name": "stdout",
     "output_type": "stream",
     "text": [
      "[1, 2, 3, 4, 5]\n"
     ]
    }
   ],
   "source": [
    "def q1_create_lists():\n",
    "    # Write your solution here\n",
    "    q1_list = []\n",
    "    for n in range(1,6):\n",
    "        q1_list.append(n)\n",
    "    return q1_list\n",
    "print(q1_create_lists())\n"
   ]
  },
  {
   "cell_type": "markdown",
   "metadata": {},
   "source": [
    "#### Question 2&nbsp;&nbsp;&nbsp;&nbsp;&nbsp;&nbsp;(3 Points)\n",
    "\n",
    "Complete the following function `q2_length_of_list` that stores the length of given list, `marvel_characters` in `number_of_characters`. "
   ]
  },
  {
   "cell_type": "code",
   "execution_count": 4,
   "metadata": {
    "tags": []
   },
   "outputs": [
    {
     "name": "stdout",
     "output_type": "stream",
     "text": [
      "7\n"
     ]
    }
   ],
   "source": [
    "\n",
    "marvel_characters = [\"Scarlet Witch\",\"Wong\",\"Nicodemus West\",\"Gargantos\",\"Strange Supreme\",\"Mr. Fantastic\",\"Rintrah\"]\n",
    "\n",
    "def q2_length_of_list(marvel_characters):\n",
    "    # Write your solution here\n",
    "    number_of_characters = 0\n",
    "    for n in marvel_characters:\n",
    "        number_of_characters+=1\n",
    "    return number_of_characters\n",
    "\n",
    "print(q2_length_of_list(marvel_characters))\n"
   ]
  },
  {
   "cell_type": "markdown",
   "metadata": {},
   "source": [
    "#### Question 3&nbsp;&nbsp;&nbsp;&nbsp;&nbsp;&nbsp;(3 Points)\n",
    "Complete the following function `q3_create_dict` to store a dictionary in `super_hero_ranks` with ***Name as keys*** and ***Power as values*** using the following data.\n",
    "\n",
    "| Name | Power |\n",
    "| --- | --- |\n",
    "| Wong | 70 |\n",
    "| Scarlet Witch | 99 |\n",
    "| Strange Supreme | 95 |\n",
    "| Mr. Fantastic | 80 |\n",
    "| Rintrah | 75 |\n",
    "\n"
   ]
  },
  {
   "cell_type": "code",
   "execution_count": 32,
   "metadata": {
    "tags": []
   },
   "outputs": [
    {
     "name": "stdout",
     "output_type": "stream",
     "text": [
      "{'wong': 70, 'Scarlet Witch': 99, 'Strange Supreme': 95, 'Mr. Fantastic': 80, 'Rintrah': 75}\n"
     ]
    }
   ],
   "source": [
    "def q3_create_dict():\n",
    "    # Write your solution here\n",
    "    super_hero_ranks = {}\n",
    "    super_hero_ranks[\"wong\"]=70\n",
    "    super_hero_ranks[\"Scarlet Witch\"]=99\n",
    "    super_hero_ranks[\"Strange Supreme\"]=95\n",
    "    super_hero_ranks[\"Mr. Fantastic\"]=80\n",
    "    super_hero_ranks[\"Rintrah\"]=75\n",
    "    return super_hero_ranks\n",
    "print(q3_create_dict())\n"
   ]
  },
  {
   "cell_type": "markdown",
   "metadata": {},
   "source": [
    "#### Question 4&nbsp;&nbsp;&nbsp;&nbsp;&nbsp;&nbsp;(3 Points)\n",
    "Complete the following function `q4_dict_add_ele` that adds ***'Seattle' as a key*** and ***'Mariners' as value*** to `baseball_teams`. "
   ]
  },
  {
   "cell_type": "code",
   "execution_count": null,
   "metadata": {
    "tags": []
   },
   "outputs": [],
   "source": [
    "\n",
    "baseball_teams = {'Colorado': 'Rockies', 'Boston': 'Red Sox', 'Minnesota': 'Twins','Milwaukee': 'Brewers'}\n",
    "\n",
    "def q4_dict_add_ele(baseball_teams):\n",
    "    # Write your solution here\n",
    "\n",
    "    return baseball_teams\n"
   ]
  },
  {
   "cell_type": "markdown",
   "metadata": {},
   "source": [
    "#### Question 5&nbsp;&nbsp;&nbsp;&nbsp;&nbsp;&nbsp;(3 Points)\n",
    "Complete the function `q5_update_dict` that sets the values for key ***'Minnesota'*** as ***'Minnesota Twins'*** in the given dictionary `q5_baseball_teams`.\n"
   ]
  },
  {
   "cell_type": "code",
   "execution_count": null,
   "metadata": {
    "tags": []
   },
   "outputs": [],
   "source": [
    "\"\"\"\n",
    "q5_baseball_teams = {'Colorado': 'Rockies', 'Boston': 'Red Sox', 'Minnesota': 'Twins','Milwaukee': 'Brewers'}\n",
    "\"\"\"\n",
    "def q5_update_dict(q5_baseball_teams):\n",
    "    # Write your solution here\n",
    "    q5_baseball_teams = {}\n",
    "    \n",
    "    return q5_baseball_teams\n",
    "\n"
   ]
  },
  {
   "cell_type": "markdown",
   "metadata": {},
   "source": [
    "#### Question 6&nbsp;&nbsp;&nbsp;&nbsp;&nbsp;&nbsp;(5 Points)\n",
    "Complete the function `q6_concat_lists` that takes in two lists `q6_list1`,`q6_list2` and concatonates them into `q6_list1`."
   ]
  },
  {
   "cell_type": "code",
   "execution_count": 5,
   "metadata": {
    "tags": []
   },
   "outputs": [
    {
     "name": "stdout",
     "output_type": "stream",
     "text": [
      "[1, 2, 3, 4, 5, -1, -2, -3, -4, -5]\n"
     ]
    }
   ],
   "source": [
    "\n",
    "q6_list1 = [1,2,3,4,5]\n",
    "q6_list2 = [-1,-2,-3,-4,-5]\n",
    "\n",
    "def q6_concat_lists(q6_list1,q6_list2):\n",
    "    # Write your solution here\n",
    "    for i in q6_list2:\n",
    "        q6_list1.append(i)\n",
    "    return q6_list1\n",
    "print(q6_concat_lists(q6_list1,q6_list2))\n"
   ]
  },
  {
   "cell_type": "markdown",
   "metadata": {},
   "source": [
    "#### Question 7&nbsp;&nbsp;&nbsp;&nbsp;&nbsp;&nbsp;(5 Points)\n",
    "Complete the function `q7_repeat_lists` that takes in a list `q7_list1` and creates a new list `q7_list2` that stores `q7_list1` repeated 5 times."
   ]
  },
  {
   "cell_type": "code",
   "execution_count": 29,
   "metadata": {
    "tags": []
   },
   "outputs": [
    {
     "name": "stdout",
     "output_type": "stream",
     "text": [
      "[1, 2, 3, 4, 5, 1, 2, 3, 4, 5, 1, 2, 3, 4, 5, 1, 2, 3, 4, 5, 1, 2, 3, 4, 5]\n"
     ]
    }
   ],
   "source": [
    "\n",
    "q7_list1 = [1,2,3,4,5]\n",
    "\n",
    "def q7_repeat_lists(q7_list1):\n",
    "    # Write your solution here\n",
    "    q7_list2=[]\n",
    "    q7_list2=q7_list1*5\n",
    "    \n",
    "    return q7_list2\n",
    "print(q7_repeat_lists(q7_list1))\n"
   ]
  },
  {
   "cell_type": "markdown",
   "metadata": {},
   "source": [
    "#### Question 8&nbsp;&nbsp;&nbsp;&nbsp;&nbsp;&nbsp;(5 Points)\n",
    "Complete the function `q8_check_val` stores `True` in `found_val` if value in `element_to_find` is present in `q8_list` otherwise stores `False` in `found_val`."
   ]
  },
  {
   "cell_type": "code",
   "execution_count": 18,
   "metadata": {
    "tags": []
   },
   "outputs": [
    {
     "name": "stdout",
     "output_type": "stream",
     "text": [
      "False\n"
     ]
    }
   ],
   "source": [
    "\n",
    "q8_list = [\"1950 Norton Manx\", \"1923 BMW R32\", \"1940 Indian Chief\", \"1937 Triumph Speed Twin\", \"2002 Harley-Davidson VRSCA\", \"2007 Aprilia SXV\" ]\n",
    "element_to_find = \"1950 Norton Manx\"\n",
    "\n",
    "def q8_check_val(q8_list,element_to_find):\n",
    "    # Write your solution here\n",
    "    for i in range(len(q8_list)):\n",
    "        if q8_list[i]==element_to_find:\n",
    "            found_val=True\n",
    "        else:\n",
    "            found_val = False\n",
    "    return found_val\n",
    "print(q8_check_val(q8_list,element_to_find))\n"
   ]
  },
  {
   "cell_type": "markdown",
   "metadata": {},
   "source": [
    "#### Question 9&nbsp;&nbsp;&nbsp;&nbsp;&nbsp;&nbsp;(5 Points)\n",
    "Complete the function `q9_update_list` that removes `ele_to_remove` from `q9_list1`.\n",
    "\n",
    "\n",
    "**Example**\n",
    "\n",
    "```\n",
    "q9_update_list( [1,2,3,4,5] , 1) should return [2, 3, 4, 5]\n",
    "```\n",
    "\n",
    "**Hint**: Use loops to iterate over values in a list"
   ]
  },
  {
   "cell_type": "code",
   "execution_count": 30,
   "metadata": {
    "tags": []
   },
   "outputs": [
    {
     "name": "stdout",
     "output_type": "stream",
     "text": [
      "[2, 3, 4, 5]\n"
     ]
    }
   ],
   "source": [
    "def q9_update_list(q9_list1,ele_to_remove):\n",
    "    # Write your solution here\n",
    "    for i in q9_list1:\n",
    "        if i==ele_to_remove:\n",
    "            q9_list1.remove(i)\n",
    "    return q9_list1\n",
    "\n",
    "print(q9_update_list([1,2,3,4,5],1))\n"
   ]
  },
  {
   "cell_type": "markdown",
   "metadata": {},
   "source": [
    "#### Question 10&nbsp;&nbsp;&nbsp;&nbsp;&nbsp;&nbsp;(5 Points)\n",
    "Complete the function `q10_sort_list` that sorts a list of greek gods stored in a list `greek_gods` in ***descending*** order."
   ]
  },
  {
   "cell_type": "code",
   "execution_count": 20,
   "metadata": {
    "tags": []
   },
   "outputs": [
    {
     "name": "stdout",
     "output_type": "stream",
     "text": [
      "['Zeus', 'Poseidon', 'Hestia', 'Hermes', 'Hera', 'Hephaestus', 'Hades', 'Demeter', 'Athena', 'Artemis', 'Ares', 'Apollo', 'Aphrodite']\n"
     ]
    }
   ],
   "source": [
    "\n",
    "greek_gods = [\"Zeus\", \"Poseidon\", \"Hera\", \"Hestia\", \"Demeter\", \"Hades\", \"Apollo\", \"Artemis\", \"Hermes\", \"Athena\", \"Hephaestus\", \"Aphrodite\", \"Ares\"]\n",
    "\n",
    "\n",
    "def q10_sort_list(greek_gods):\n",
    "    # Write your solution here\n",
    "    greek_gods.sort(reverse=True)\n",
    "\n",
    "    return greek_gods\n",
    "print(q10_sort_list(greek_gods))\n"
   ]
  },
  {
   "cell_type": "markdown",
   "metadata": {},
   "source": [
    "#### Question 11&nbsp;&nbsp;&nbsp;&nbsp;&nbsp;&nbsp;(10 Points)\n",
    "You are given a list of values in `q11_list1` of variable length and `q11_list2` of length 5.\n",
    "Complete the function `q11_value_counts` that stores how many times values of `q11_list2` are present in `q11_list1` in a ***dictionay*** `q11_dict`.\n",
    "\n",
    "**Example**\n",
    "\n",
    "```\n",
    "q11_list1 = [1,1,1,1,2,2,2,3,3,3,4]\n",
    "q11_list2 = [1,2,3,4,5]\n",
    "q11_value_counts should be {1: 4, 2: 3, 3: 3, 4: 1, 5: 0}\n",
    "```\n",
    "\n",
    "**Hint**: Use loops to iterate over values in a list\n"
   ]
  },
  {
   "cell_type": "code",
   "execution_count": 21,
   "metadata": {
    "tags": []
   },
   "outputs": [
    {
     "data": {
      "text/plain": [
       "{1: 4, 2: 3, 3: 3, 4: 1, 5: 0}"
      ]
     },
     "execution_count": 21,
     "metadata": {},
     "output_type": "execute_result"
    }
   ],
   "source": [
    "\n",
    "q11_list1 = [1,1,1,1,2,2,2,3,3,3,4]\n",
    "q11_list2 = [1,2,3,4,5]\n",
    "\n",
    "def q11_value_counts(q11_list1,q11_list2):\n",
    "    q11_dict = {}\n",
    "    # Write your solution here\n",
    "    x={}\n",
    "    for i in q11_list1:\n",
    "        x[i]=q11_list1.count(i)\n",
    "    y=list(x.values())\n",
    "    while len(y)<len(q11_list2):\n",
    "        y.append(0)\n",
    "    for key in q11_list2:\n",
    "        for value in y:\n",
    "            q11_dict[key]=value\n",
    "            y.remove(value)\n",
    "            break\n",
    "    return q11_dict\n",
    "\n",
    "q11_value_counts(q11_list1,q11_list2)"
   ]
  },
  {
   "cell_type": "markdown",
   "metadata": {},
   "source": [
    "#### Question 12&nbsp;&nbsp;&nbsp;&nbsp;&nbsp;&nbsp;(10 Points)\n",
    "You are given a list of values in `q12_list1` and `q12_list2`.\n",
    "Complete the function `q12_remove_vals` that removes ***all occurances*** of values in `q12_list2` present in `q12_list1` and returns the updated `q12_list1`.\n",
    "\n",
    "**Example**\n",
    "\n",
    "`q12_list1 = [1,2,3,4,5,6,7,8,9,10]\n",
    "q12_list2 = [1,2,3,4,5]\n",
    "q12_value_counts should be [6,7,8,9,10]`\n",
    "\n",
    "**Hint**: Use loops to iterate over values in a list\n"
   ]
  },
  {
   "cell_type": "code",
   "execution_count": 22,
   "metadata": {
    "tags": []
   },
   "outputs": [
    {
     "name": "stdout",
     "output_type": "stream",
     "text": [
      "[6, 7, 8, 9, 10]\n"
     ]
    }
   ],
   "source": [
    "\n",
    "q12_list1 = [1,2,3,4,5,6,7,8,9,10]\n",
    "q12_list2 = [1,2,3,4,5,15]\n",
    "\n",
    "def q12_remove_vals(q12_list1,q12_list2):\n",
    "    # Write your solution here\n",
    "    temp=[]\n",
    "    for i in q12_list1:\n",
    "        if i not in q12_list2:\n",
    "            temp.append(i)\n",
    "    q12_list1=temp\n",
    "    return q12_list1\n",
    "\n",
    "print (q12_remove_vals(q12_list1,q12_list2))\n"
   ]
  },
  {
   "cell_type": "markdown",
   "metadata": {},
   "source": [
    "#### Question 13&nbsp;&nbsp;&nbsp;&nbsp;&nbsp;&nbsp;(10 Points)\n",
    "You are given a list of values in `q13_list1`.\n",
    "Complete the function `q13_split_vals` returns a dictionary `q13_split` created from the list by splitting these values into lists of `odd`, `even` and `float` values. If the value is not an `int` or `float` add this value to `others`\n",
    "\n",
    "**Example**\n",
    "\n",
    "```\n",
    "q13_list1 = [1,2,3,4,5,6,7,8,9,10,5.6,8.56,100.45]\n",
    "q13_split = {'odd': [1, 3, 5, 7, 9], 'even': [2, 4, 6, 8, 10], 'float': [5.6, 8.56, 100.45], 'others': []}\n",
    "```\n",
    "\n",
    "\n",
    "**Hint**: Use loops to iterate over values in a list"
   ]
  },
  {
   "cell_type": "code",
   "execution_count": null,
   "metadata": {
    "tags": []
   },
   "outputs": [],
   "source": [
    "def q13_split_vals(q13_list1):\n",
    "    q13_splits = {'odd':[],'even':[],'float':[],'others':[]}\n",
    "    # Write your solution here\n",
    "    \n",
    "    return q13_splits\n"
   ]
  },
  {
   "cell_type": "markdown",
   "metadata": {},
   "source": [
    "#### Question 14&nbsp;&nbsp;&nbsp;&nbsp;&nbsp;&nbsp;(10 Points)\n",
    "You are given a list of dictionaries in `sitcom1`.\n",
    "Complete the function `q14_extract_values` returns a new dictionary `q13_values` created from the list of dictionaries by extracting only values for `name` and `age` for every `Actor`.\n",
    "\n",
    "**Example**\n",
    "\n",
    "```\n",
    "Sitcom1 = [\n",
    "    Actor1 : {\n",
    "        \"name\": \"Jerry\",\n",
    "        \"age\": 68,\n",
    "        \"pay\": 50000,\n",
    "        \"city\": \"Adelaide\"},\n",
    "    Actress1 : {\n",
    "        \"name\": \"Elaine\",\n",
    "        \"time_of_employment\": 61,\n",
    "        \"pay\": 28000,\n",
    "        \"city\": \"Sydney\"},\n",
    "    Actor2 : {\n",
    "        \"name\": \"George\",\n",
    "        \"age\": 74,\n",
    "        \"salary\": 34000,\n",
    "        \"city\": \"New york\"},\n",
    "    Actor3 : {\n",
    "        \"name\": \"Kramer\",\n",
    "        \"age\": 72,\n",
    "        \"salary\": 40000,\n",
    "        \"city\": \"New york\"}\n",
    "        ]\n",
    "   \n",
    "\n",
    "# Keys to extract\n",
    "keys = [\"name\", \"salary\"]\n",
    "\n",
    "q13_values = \n",
    "{'Actor1': {'name': 'Jerry', 'age': 68}, 'Actor2': {'name': 'George', 'age': 74}, 'Actor3': {'name': 'Kramer', 'age': 72}}\n",
    "\n",
    "```\n",
    "\n",
    "\n",
    "**Hint**: Use loops to iterate over dictionary elements and dictionary methods\n",
    "```\n",
    "items() to get all the key:value pairs\n",
    "keys() get all the keys\n",
    "values() get all the values\n",
    "```"
   ]
  },
  {
   "cell_type": "code",
   "execution_count": null,
   "metadata": {
    "tags": []
   },
   "outputs": [],
   "source": [
    "def q14_extract_values(sitcom1):\n",
    "    q13_values ={}\n",
    "    # Write your solution here\n",
    "    \n",
    "    return q13_values\n"
   ]
  },
  {
   "cell_type": "markdown",
   "metadata": {},
   "source": [
    "#### Question 15&nbsp;&nbsp;&nbsp;&nbsp;&nbsp;&nbsp;(10 Points)\n",
    "You are given a dictionary of marks of students in `q15_dict`.\n",
    "Complete the function `q15_min_max_calc` which extracts `max` and `min` marks of every student in `q15_dict` and returns a dictionary `q15_min_max` with ***keys as student_name*** and ***values as students min and max marks***.\n",
    "\n",
    "**Example**\n",
    "```\n",
    "q15_dict ={\n",
    "    'James':    {'OOP': 60, 'FCS': 70, 'DSA':89 ,'AML':69},\n",
    "    'Mark':     {'OOP': 76, 'FCS': 76, 'DSA':89 ,'AML':77},\n",
    "    'Mary':     {'OOP': 65, 'FCS': 34, 'DSA':34 ,'AML':88},\n",
    "    'Anthony' : {'OOP': 34, 'FCS': 90, 'DSA':94 ,'AML':99},\n",
    "    'Zelda' :   {'OOP': 87, 'FCS': 45, 'DSA':89 ,'AML':76},\n",
    "    'Quorra' :  {'OOP': 12, 'FCS': 66, 'DSA':50.55 ,'AML':45},\n",
    "    'Stephan' : {'OOP': 65, 'FCS': 78, 'DSA':67 ,'AML':70}\n",
    "}\n",
    "```\n",
    "```\n",
    "q15_min_max = {\n",
    "     'Anthony': {'max': {'AML': 99}, 'min': {'OOP': 34}},\n",
    "     'James': {'max': {'DSA': 89}, 'min': {'OOP': 60}},\n",
    "     'Mark': {'max': {'DSA': 89}, 'min': {'FCS': 76}},\n",
    "     'Mary': {'max': {'AML': 88}, 'min': {'DSA': 34}},\n",
    "     'Quorra': {'max': {'FCS': 66}, 'min': {'OOP': 12}},\n",
    "     'Stephan': {'max': {'FCS': 78}, 'min': {'OOP': 65}},\n",
    "     'Zelda': {'max': {'DSA': 89}, 'min': {'FCS': 45}}\n",
    "}\n",
    "```\n",
    "\n",
    "\n",
    "**Hint**: Use loops to iterate over dictionary elements, python inbuilt methods min() and max() and dictionary methods\n",
    "```\n",
    "items() to get all the key:value pairs\n",
    "keys() get all the keys\n",
    "values() get all the values\n",
    "```"
   ]
  },
  {
   "cell_type": "code",
   "execution_count": null,
   "metadata": {
    "tags": []
   },
   "outputs": [],
   "source": [
    "\"\"\"\n",
    "q15_dict = \\\n",
    "    {\n",
    "        'James':    {'OOP': 60, 'FCS': 70, 'DSA':89 ,'AML':69},\n",
    "        'Mark':     {'OOP': 76, 'FCS': 76, 'DSA':89 ,'AML':77},\n",
    "        'Mary':     {'OOP': 65, 'FCS': 34, 'DSA':34 ,'AML':88},\n",
    "        'Anthony' : {'OOP': 34, 'FCS': 90, 'DSA':94 ,'AML':99},\n",
    "        'Zelda' :   {'OOP': 87, 'FCS': 45, 'DSA':89 ,'AML':76},\n",
    "        'Quorra' :  {'OOP': 12, 'FCS': 66, 'DSA':50.55 ,'AML':45},\n",
    "        'Stephan' : {'OOP': 65, 'FCS': 78, 'DSA':67 ,'AML':70}\n",
    "    }\n",
    "\"\"\"\n",
    "def q15_min_max_calc(q15_dict):\n",
    "    q15_min_max ={}\n",
    "    \n",
    "    # Write your solution here\n",
    "    \n",
    "    \n",
    "    return q15_min_max\n"
   ]
  },
  {
   "cell_type": "markdown",
   "metadata": {},
   "source": [
    "#### Question 16&nbsp;&nbsp;&nbsp;&nbsp;&nbsp;&nbsp;(10 Points)\n",
    "You are given a dictionary in `q16_dict`.\n",
    "Complete the function `q16_swap_dictionary` which swaps `keys` and `values` from q16_dict and stores it in a new dictionary `q16_swaped_dict` with ***keys as values from `q16_dict`*** and ***values as a list of keys from `q16_dict`***.\n",
    "\n",
    "**Example**\n",
    "\n",
    "```\n",
    "q16_dict ={'A': 67, 'B': 23, 'C': 45, 'E': 12, 'F': 69, 'G': 67, 'H': 23}\n",
    "```\n",
    "```\n",
    "q16_swaped_dict = {67: ['A', 'G'], 23: ['B', 'H'], 45: ['C'], 12: ['E'], 69: ['F']}\n",
    "```\n",
    "\n",
    "\n",
    "**Hint**: Use loops to iterate over dictionary elements, list and dictionary methods\n",
    "```\n",
    "items() to get all the key:value pairs\n",
    "keys() get all the keys\n",
    "values() get all the values\n",
    "```"
   ]
  },
  {
   "cell_type": "code",
   "execution_count": null,
   "metadata": {
    "tags": []
   },
   "outputs": [],
   "source": [
    "\n",
    "q16_dict = {'A': 67, 'B': 23, 'C': 45, 'E': 12, 'F': 69, 'G': 67, 'H': 23}\n",
    "\n",
    "\n",
    "def q16_swap_dictionary(q16_dict):\n",
    "    q16_swaped_dict ={}\n",
    "    # Write your solution here\n",
    "    \n",
    "    return q16_swaped_dict\n"
   ]
  }
 ],
 "metadata": {
  "celltoolbar": "Edit Metadata",
  "interpreter": {
   "hash": "b6213e0af081d56db034f795ff49d96980936e2ae540dda57fc6c3cbea6a5fc9"
  },
  "kernelspec": {
   "display_name": "Python 3 (ipykernel)",
   "language": "python",
   "name": "python3"
  },
  "language_info": {
   "codemirror_mode": {
    "name": "ipython",
    "version": 3
   },
   "file_extension": ".py",
   "mimetype": "text/x-python",
   "name": "python",
   "nbconvert_exporter": "python",
   "pygments_lexer": "ipython3",
   "version": "3.9.12"
  },
  "otter": {
   "tests": {
    "Question 01": {
     "name": "Question 01",
     "points": 3,
     "suites": [
      {
       "cases": [],
       "scored": true,
       "setup": "",
       "teardown": "",
       "type": "doctest"
      }
     ]
    },
    "Question 02": {
     "name": "Question 02",
     "points": 3,
     "suites": [
      {
       "cases": [],
       "scored": true,
       "setup": "",
       "teardown": "",
       "type": "doctest"
      }
     ]
    },
    "Question 03": {
     "name": "Question 03",
     "points": 3,
     "suites": [
      {
       "cases": [],
       "scored": true,
       "setup": "",
       "teardown": "",
       "type": "doctest"
      }
     ]
    },
    "Question 04": {
     "name": "Question 04",
     "points": 3,
     "suites": [
      {
       "cases": [],
       "scored": true,
       "setup": "",
       "teardown": "",
       "type": "doctest"
      }
     ]
    },
    "Question 05": {
     "name": "Question 05",
     "points": 3,
     "suites": [
      {
       "cases": [],
       "scored": true,
       "setup": "",
       "teardown": "",
       "type": "doctest"
      }
     ]
    },
    "Question 06": {
     "name": "Question 06",
     "points": 5,
     "suites": [
      {
       "cases": [],
       "scored": true,
       "setup": "",
       "teardown": "",
       "type": "doctest"
      }
     ]
    },
    "Question 07": {
     "name": "Question 07",
     "points": 5,
     "suites": [
      {
       "cases": [],
       "scored": true,
       "setup": "",
       "teardown": "",
       "type": "doctest"
      }
     ]
    },
    "Question 08": {
     "name": "Question 08",
     "points": 5,
     "suites": [
      {
       "cases": [],
       "scored": true,
       "setup": "",
       "teardown": "",
       "type": "doctest"
      }
     ]
    },
    "Question 09": {
     "name": "Question 09",
     "points": 5,
     "suites": [
      {
       "cases": [],
       "scored": true,
       "setup": "",
       "teardown": "",
       "type": "doctest"
      }
     ]
    },
    "Question 10": {
     "name": "Question 10",
     "points": 5,
     "suites": [
      {
       "cases": [],
       "scored": true,
       "setup": "",
       "teardown": "",
       "type": "doctest"
      }
     ]
    },
    "Question 11": {
     "name": "Question 11",
     "points": 10,
     "suites": [
      {
       "cases": [],
       "scored": true,
       "setup": "",
       "teardown": "",
       "type": "doctest"
      }
     ]
    },
    "Question 12": {
     "name": "Question 12",
     "points": 10,
     "suites": [
      {
       "cases": [],
       "scored": true,
       "setup": "",
       "teardown": "",
       "type": "doctest"
      }
     ]
    },
    "Question 13": {
     "name": "Question 13",
     "points": 10,
     "suites": [
      {
       "cases": [],
       "scored": true,
       "setup": "",
       "teardown": "",
       "type": "doctest"
      }
     ]
    },
    "Question 14": {
     "name": "Question 14",
     "points": 10,
     "suites": [
      {
       "cases": [],
       "scored": true,
       "setup": "",
       "teardown": "",
       "type": "doctest"
      }
     ]
    },
    "Question 15": {
     "name": "Question 15",
     "points": 10,
     "suites": [
      {
       "cases": [
        {
         "code": ">>> q15_min_max_calc( {'James': {'OOP': 60, 'FCS': 70, 'DSA': 89, 'AML': 69}, 'Mark': {'OOP': 76, 'FCS': 76, 'DSA': 89, 'AML': 77}, 'Mary': {'OOP': 65, 'FCS': 34, 'DSA': 34, 'AML': 88}, 'Anthony': {'OOP': 34, 'FCS': 90, 'DSA': 94, 'AML': 99}, 'Zelda': {'OOP': 87, 'FCS': 45, 'DSA': 89, 'AML': 76}, 'Quorra': {'OOP': 12, 'FCS': 66, 'DSA': 50.55, 'AML': 45}, 'Stephan': {'OOP': 65, 'FCS': 78, 'DSA': 67, 'AML': 70} })  == { 'James': {'min': {'OOP': 60}, 'max': {'DSA': 89} } , 'Mark': {'min': {'FCS': 76}, 'max': {'DSA': 89} }, 'Mary': {'min': {'DSA': 34}, 'max': {'AML': 88} }, 'Anthony': {'min': {'OOP': 34}, 'max': {'AML': 99} }, 'Zelda': {'min': {'FCS': 45}, 'max': {'DSA': 89} }, 'Quorra': {'min': {'OOP': 12}, 'max': {'FCS': 66} }, 'Stephan': {'min': {'OOP': 65}, 'max': {'FCS': 78} } }\nTrue",
         "hidden": false,
         "locked": false
        },
        {
         "code": ">>> q15_min_max_calc( {'James': {'OOP': 60, 'FCS': 70, 'DSA': 89, 'AML': 69}, 'Mark': {'OOP': 76, 'FCS': 76, 'DSA': 89, 'AML': 77}, 'Mary': {'OOP': 65, 'FCS': 34, 'DSA': 34, 'AML': 88}, 'Anthony': {'OOP': 34, 'FCS': 90, 'DSA': 94, 'AML': 99}, 'Zelda': {'OOP': 87, 'FCS': 45, 'DSA': 89, 'AML': 76}, 'Quorra': {'OOP': 12, 'FCS': 66, 'DSA': 50.55, 'AML': 45}, 'Stephan': {'OOP': 65, 'FCS': 78, 'DSA': 67, 'AML': 70} })['Stephan']  == {'min': {'OOP': 65}, 'max': {'FCS': 78} }\nTrue",
         "hidden": false,
         "locked": false
        }
       ],
       "scored": true,
       "setup": "",
       "teardown": "",
       "type": "doctest"
      }
     ]
    },
    "Question 16": {
     "name": "Question 16",
     "points": 10,
     "suites": [
      {
       "cases": [],
       "scored": true,
       "setup": "",
       "teardown": "",
       "type": "doctest"
      }
     ]
    }
   }
  },
  "varInspector": {
   "cols": {
    "lenName": 16,
    "lenType": 16,
    "lenVar": 40
   },
   "kernels_config": {
    "python": {
     "delete_cmd_postfix": "",
     "delete_cmd_prefix": "del ",
     "library": "var_list.py",
     "varRefreshCmd": "print(var_dic_list())"
    },
    "r": {
     "delete_cmd_postfix": ") ",
     "delete_cmd_prefix": "rm(",
     "library": "var_list.r",
     "varRefreshCmd": "cat(var_dic_list()) "
    }
   },
   "types_to_exclude": [
    "module",
    "function",
    "builtin_function_or_method",
    "instance",
    "_Feature"
   ],
   "window_display": false
  }
 },
 "nbformat": 4,
 "nbformat_minor": 4
}
