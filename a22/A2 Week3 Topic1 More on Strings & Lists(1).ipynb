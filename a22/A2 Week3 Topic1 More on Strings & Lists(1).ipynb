{
 "cells": [
  {
   "cell_type": "code",
   "execution_count": null,
   "metadata": {},
   "outputs": [],
   "source": [
    "import pandas as pd\n",
    "import numpy as np\n",
    "%matplotlib inline\n",
    "import otter\n",
    "grader = otter.Notebook()"
   ]
  },
  {
   "cell_type": "markdown",
   "metadata": {},
   "source": [
    "# A2 | Week 2: Practice More on Strings & Lists\n",
    "\n",
    "------\n",
    "\n",
    "### Instructions:\n",
    "\n",
    "- Complete 50 points worth of questions to pass the assessment\n",
    "  - You can attempt any number of questions and in any order provided you pass at least 50 points.\n",
    "- Develop and check your answers in the spaces provided.\n",
    "  - Do not remove any variables other provided markings already present in the answer spaces.\n",
    "  - Do not make any changes to this notebook outside of the answer spaces provided.\n",
    "  \n",
    "#### Submitting\n",
    "\n",
    "- Upload your .ipynb file to Gradescope (Make sure to restart the kernel and run all before you submit)\n",
    "- You can submit as many times as needed\n",
    "- When reviewing results, ignore any results listed under \"Public Tests\"\n",
    "\n",
    "For more information, see the assessment page. We have also provided an example question below for clarity. "
   ]
  },
  {
   "cell_type": "markdown",
   "metadata": {},
   "source": [
    "#### Question 1&nbsp;&nbsp;&nbsp;&nbsp;&nbsp;&nbsp;(3 Points)\n",
    "\n",
    "Consider a pre-defined list\n",
    "\n",
    "q1_list = [1,2,3,4,5,6,7]\n",
    "\n",
    "Replace the second index with 0 using the function `q1_output` that takes 1 parameter which is a list. Your function should return the following list: [1,2,0,4,5,6,7] (i.e., the second is replaced with 0, as decribed in the question)."
   ]
  },
  {
   "cell_type": "code",
   "execution_count": null,
   "metadata": {
    "tags": []
   },
   "outputs": [],
   "source": [
    "# Write your solution here\n",
    "\n"
   ]
  },
  {
   "cell_type": "markdown",
   "metadata": {},
   "source": [
    "#### Question 2&nbsp;&nbsp;&nbsp;&nbsp;&nbsp;&nbsp;(3 Points)\n",
    "\n",
    "Consider a list\n",
    "\n",
    "q2_list = [1,2,3,4,5,6,7,8,9,10]\n",
    "\n",
    "Replace the even indexes with 0 and odd indexes with 1 using the function `q2_output` that takes 1 parameter which is a list. Your function should return the following list: [0, 1, 0, 1, 0, 1, 0, 1, 0, 1]."
   ]
  },
  {
   "cell_type": "code",
   "execution_count": null,
   "metadata": {
    "tags": []
   },
   "outputs": [],
   "source": [
    "# Write your solution here\n",
    "\n"
   ]
  },
  {
   "cell_type": "markdown",
   "metadata": {},
   "source": [
    "#### Question 3&nbsp;&nbsp;&nbsp;&nbsp;&nbsp;&nbsp;(3 Points)\n",
    "Consider the pre-defined list\n",
    "\n",
    "q3_list = [11,12,13,14,15,16,17,18,19,20]\n",
    "\n",
    "If the element is present at odd places replace it with it's square and for even places replace it with string 'Y' using the function `q3_output()` that takes 1 parameter which is a list. Your function should return the following list: [121, 'Y', 169, 'Y', 225, 'Y', 289, 'Y', 361, 'Y']"
   ]
  },
  {
   "cell_type": "code",
   "execution_count": null,
   "metadata": {
    "tags": []
   },
   "outputs": [],
   "source": [
    "# Write your solution here\n",
    "\n"
   ]
  },
  {
   "cell_type": "markdown",
   "metadata": {},
   "source": [
    "#### Question 4&nbsp;&nbsp;&nbsp;&nbsp;&nbsp;&nbsp;(3 Points)\n",
    "Write a Python program to check if the list is empty or not, and if list is not empty multiply all the elements inside it. Mentioned below are examples of potential inputs and outputs.\n",
    "\n",
    "Input: []  \n",
    "Output: Error!! Empty list\n",
    "\n",
    "Input: [1,2,3]  \n",
    "Output: 6\n",
    "\n",
    "Use the function `q4_output()` that takes 1 parameter which is a list. Your function should return the above-mentioned output."
   ]
  },
  {
   "cell_type": "code",
   "execution_count": null,
   "metadata": {
    "tags": []
   },
   "outputs": [],
   "source": [
    "# Write your solution here\n",
    "\n"
   ]
  },
  {
   "cell_type": "markdown",
   "metadata": {},
   "source": [
    "#### Question 5&nbsp;&nbsp;&nbsp;&nbsp;&nbsp;&nbsp;(3 Points)\n",
    "Consider the following string.  \n",
    "q5_string = 'ab#cd#ef'\n",
    "\n",
    "Using the function `q5_output` that takes 1 parameter which is a string, do the following tasks.\n",
    "1. replace '#' with '1' so the `output_5` would be 'ab1cd1ef1'\n",
    "2. second split the `output_5` into a list in the following format: ['ab,'cd',ef']\n",
    "\n",
    "Your function should return the resulted list, which is ['ab,'cd',ef']."
   ]
  },
  {
   "cell_type": "code",
   "execution_count": null,
   "metadata": {
    "tags": []
   },
   "outputs": [],
   "source": [
    "# Write your solution here\n",
    "\n"
   ]
  },
  {
   "cell_type": "markdown",
   "metadata": {},
   "source": [
    "#### Question 6&nbsp;&nbsp;&nbsp;&nbsp;&nbsp;&nbsp;(5 Points)\n",
    "Write a Python program to move all 1's in the following list to end of the list using the function `q6_output` that takes 1 parameter which is a list.  \n",
    "q6_list = [1,2,3,1,4,5,6,1,1,1,7,8,9,1,1,0]\n",
    "\n",
    "Your function should return the following list: [2,3,4,5,6,7,8,9,0,1,1,1,1,1,1,1]."
   ]
  },
  {
   "cell_type": "code",
   "execution_count": null,
   "metadata": {
    "tags": []
   },
   "outputs": [],
   "source": [
    "# Write your solution here\n",
    "\n"
   ]
  },
  {
   "cell_type": "markdown",
   "metadata": {},
   "source": [
    "#### Question 7&nbsp;&nbsp;&nbsp;&nbsp;&nbsp;&nbsp;(5 Points) \n",
    "Write a Python program to remove duplicated from a given list using the function `q7_output` that takes 1 parameter which is a list. Your function should return the list that has no duplicate lists.\n",
    "\n",
    "For example, given the list [[100, 200], [400], [300, 506, 205], [100, 200], [303], [400]], the output should be [[100, 200], [400], [300, 506, 205], [303]]."
   ]
  },
  {
   "cell_type": "code",
   "execution_count": null,
   "metadata": {
    "tags": []
   },
   "outputs": [],
   "source": [
    "# Write your solution here\n",
    "\n"
   ]
  },
  {
   "cell_type": "markdown",
   "metadata": {},
   "source": [
    "#### Question 8&nbsp;&nbsp;&nbsp;&nbsp;&nbsp;&nbsp;(5 Points) \n",
    "Write a Python program to find the first and the last occurences of the letter 'o' in \"Hello everyone, this is python\" using the function `q8_output` that takes 2 parameters which are a string and the character needs to be found. Your function should return the first and the last occurences of the mentioned character in the given string."
   ]
  },
  {
   "cell_type": "code",
   "execution_count": null,
   "metadata": {
    "tags": []
   },
   "outputs": [],
   "source": [
    "# Write your solution here\n",
    "\n"
   ]
  },
  {
   "cell_type": "markdown",
   "metadata": {},
   "source": [
    "#### Question 9&nbsp;&nbsp;&nbsp;&nbsp;&nbsp;&nbsp;(5 Points)\n",
    "Given the following string, write a Python program to identify words that have an even length and length is more than 5. Use the function `q9_output` that takes 1 parameter which is a string. Your function should return the identified words using a list.\n",
    "\n",
    "For example, given the string  \n",
    "q9_s = \"In this week we learnt more on strings and lists in Python! Next we will learn tuples and sets.\"\n",
    "\n",
    "your function should return the list: ['learnt', 'tuples']."
   ]
  },
  {
   "cell_type": "code",
   "execution_count": null,
   "metadata": {
    "tags": []
   },
   "outputs": [],
   "source": [
    "# Write your solution here\n"
   ]
  },
  {
   "cell_type": "markdown",
   "metadata": {},
   "source": [
    "#### Question 10&nbsp;&nbsp;&nbsp;&nbsp;&nbsp;&nbsp;(5 Points)\n",
    "Given the following list, extract the slices of [4,5,6] and [8,9,10] using list slicing.   \n",
    "q10_list = [1,2,3,4,5,6,7,8,9,10]\n",
    "\n",
    "Use the function `q10_output` that takes 1 parameter which is a list. Your function should return the two list slices: [4,5,6] and [8,9,10]."
   ]
  },
  {
   "cell_type": "code",
   "execution_count": null,
   "metadata": {
    "tags": []
   },
   "outputs": [],
   "source": [
    "# Write your solution here\n",
    "\n"
   ]
  },
  {
   "cell_type": "markdown",
   "metadata": {},
   "source": [
    "#### Question 11&nbsp;&nbsp;&nbsp;&nbsp;&nbsp;&nbsp;(10 Points)\n",
    "Write a Python program to append two lists and display the frequency of each element in the list using `q11_output` function that takes 2 parameter which are lists.\n",
    "\n",
    "For example, given the following two lists,  \n",
    "q11_list1 = [1,2,3]  \n",
    "q11_list2 = [3,3,1]\n",
    "\n",
    "your function should return the following list: [[1, 2], [2, 1], [3, 3]]"
   ]
  },
  {
   "cell_type": "code",
   "execution_count": null,
   "metadata": {
    "tags": []
   },
   "outputs": [],
   "source": [
    "# Write your solution here\n",
    "\n"
   ]
  },
  {
   "cell_type": "markdown",
   "metadata": {},
   "source": [
    "#### Question 12&nbsp;&nbsp;&nbsp;&nbsp;&nbsp;&nbsp;(10 Points)\n",
    "Write a Python program to interleave two list using the function `q12_output` that takes 2 parameters which are lists.\n",
    "\n",
    "For example, given the following two lists;  \n",
    "q12_list1 = [1,2,3]  \n",
    "q12_list2 = ['a','b','c']\n",
    "\n",
    "your function should return the following list: [1, 'a',2,'b',3,'c']."
   ]
  },
  {
   "cell_type": "code",
   "execution_count": null,
   "metadata": {
    "tags": []
   },
   "outputs": [],
   "source": [
    "# Write your solution here\n",
    "\n"
   ]
  },
  {
   "cell_type": "markdown",
   "metadata": {},
   "source": [
    "#### Question 13&nbsp;&nbsp;&nbsp;&nbsp;&nbsp;&nbsp;(10 Points)\n",
    "Write a Python program to find uncommon elements in the following two lists.\n",
    "\n",
    "q13_list1 = [ [11, 12], [13, 14], [15, 16] ]  \n",
    "q13_list2 = [ [13, 14], [15, 17], [11, 12] ]\n",
    " \n",
    "The uncommon elements of two lists are: [[15, 16], [15, 17]]\n",
    "\n",
    "Use the function `q13_output` that takes 2 parameters which are lists. Your function should return the uncommon elements list."
   ]
  },
  {
   "cell_type": "code",
   "execution_count": null,
   "metadata": {
    "tags": []
   },
   "outputs": [],
   "source": [
    "# Write your solution here\n",
    "\n"
   ]
  },
  {
   "cell_type": "markdown",
   "metadata": {},
   "source": [
    "#### Question 14&nbsp;&nbsp;&nbsp;&nbsp;&nbsp;&nbsp;(10 Points)\n",
    "Write a Python program that takes a list and perform the below-mentioned 5 tasks. Use the function `q14_output` that takes 1 parameter which is the given list. Your function should return the following mentioned in the backets of each task.\n",
    "    \n",
    " 1. cumulative sum in list (return `cumulative_sum`)\n",
    " 2. cumulative product in list (return `cumulative_product`)\n",
    " 3. check for number of positive and negative numbers (return `pos_count` and `neg_count`)\n",
    " 4. replace any negative number with zero (return the changed list)\n",
    " 5. find the averge of all numbers (return `avg`) (rounded to 2 decimal points)\n",
    " \n",
    "For example, given the list [-1,2,3,4,5,3], the returned values from `q14_output` should be ([-1, 1, 4, 8, 13, 16], [-1, -2, -6, -24, -120, -360], 5, 1, [0, 2, 3, 4, 5, 3], 2.83)."
   ]
  },
  {
   "cell_type": "code",
   "execution_count": null,
   "metadata": {
    "tags": []
   },
   "outputs": [],
   "source": [
    "# Write your solution here\n",
    "\n"
   ]
  },
  {
   "cell_type": "markdown",
   "metadata": {},
   "source": [
    "#### Question 15 &nbsp;&nbsp;&nbsp;&nbsp;&nbsp;&nbsp;(10 Points) \n",
    "Given a list, write a Python program to obtain all possible combinations of the elements in this list. Use the function `q15_output` that takes 1 parameter which is a list. Your function should return a list that contains all possible combinations of the elements in this list.\n",
    "\n",
    "For example, given the list [1,2,3,4], the output should be [[], [1], [2], [2, 1], [3], [3, 1], [3, 2], [3, 2, 1], [4], [4, 1], [4, 2], [4, 2, 1], [4, 3], [4, 3, 1], [4, 3, 2], [4, 3, 2, 1]]."
   ]
  },
  {
   "cell_type": "code",
   "execution_count": null,
   "metadata": {
    "tags": []
   },
   "outputs": [],
   "source": [
    "# Write your solution here\n",
    "\n"
   ]
  },
  {
   "cell_type": "markdown",
   "metadata": {},
   "source": [
    "#### Question 16 &nbsp;&nbsp;&nbsp;&nbsp;&nbsp;&nbsp;(10 Points)\n",
    "Given a list, write a Python program to find the maximum and minimum numbers of the given indices. Use the function `q16_output` that takes 2 parameters which are the list of numbers and list of indices. Your function should return the maximum and minimum numbers.\n",
    "\n",
    "For example, given the list of numbers and list of indices as follows;  \n",
    "q16_numbers = [1,2,3,8,4,7,9,8,2,6,5,1,6,1,2,3,9,4,6,9,1,2,12,19]  \n",
    "q16_indices = [0,12,3,10,7,11]  \n",
    "the maximum and minimum numbers are 8 and 1 respectively."
   ]
  },
  {
   "cell_type": "code",
   "execution_count": null,
   "metadata": {
    "tags": []
   },
   "outputs": [],
   "source": [
    "# Write your solution here\n",
    "\n"
   ]
  }
 ],
 "metadata": {
  "celltoolbar": "Edit Metadata",
  "kernelspec": {
   "display_name": "Python 3 (ipykernel)",
   "language": "python",
   "name": "python3"
  },
  "language_info": {
   "codemirror_mode": {
    "name": "ipython",
    "version": 3
   },
   "file_extension": ".py",
   "mimetype": "text/x-python",
   "name": "python",
   "nbconvert_exporter": "python",
   "pygments_lexer": "ipython3",
   "version": "3.9.7"
  },
  "otter": {
   "tests": {
    "Question 01": {
     "name": "Question 01",
     "points": 3,
     "suites": [
      {
       "cases": [],
       "scored": true,
       "setup": "",
       "teardown": "",
       "type": "doctest"
      }
     ]
    },
    "Question 02": {
     "name": "Question 02",
     "points": 3,
     "suites": [
      {
       "cases": [],
       "scored": true,
       "setup": "",
       "teardown": "",
       "type": "doctest"
      }
     ]
    },
    "Question 03": {
     "name": "Question 03",
     "points": 3,
     "suites": [
      {
       "cases": [],
       "scored": true,
       "setup": "",
       "teardown": "",
       "type": "doctest"
      }
     ]
    },
    "Question 04": {
     "name": "Question 04",
     "points": 3,
     "suites": [
      {
       "cases": [],
       "scored": true,
       "setup": "",
       "teardown": "",
       "type": "doctest"
      }
     ]
    },
    "Question 05": {
     "name": "Question 05",
     "points": 3,
     "suites": [
      {
       "cases": [],
       "scored": true,
       "setup": "",
       "teardown": "",
       "type": "doctest"
      }
     ]
    },
    "Question 06": {
     "name": "Question 06",
     "points": 5,
     "suites": [
      {
       "cases": [],
       "scored": true,
       "setup": "",
       "teardown": "",
       "type": "doctest"
      }
     ]
    },
    "Question 07": {
     "name": "Question 07",
     "points": 5,
     "suites": [
      {
       "cases": [],
       "scored": true,
       "setup": "",
       "teardown": "",
       "type": "doctest"
      }
     ]
    },
    "Question 08": {
     "name": "Question 08",
     "points": 5,
     "suites": [
      {
       "cases": [],
       "scored": true,
       "setup": "",
       "teardown": "",
       "type": "doctest"
      }
     ]
    },
    "Question 09": {
     "name": "Question 09",
     "points": 5,
     "suites": [
      {
       "cases": [],
       "scored": true,
       "setup": "",
       "teardown": "",
       "type": "doctest"
      }
     ]
    },
    "Question 10": {
     "name": "Question 10",
     "points": 5,
     "suites": [
      {
       "cases": [],
       "scored": true,
       "setup": "",
       "teardown": "",
       "type": "doctest"
      }
     ]
    },
    "Question 11": {
     "name": "Question 11",
     "points": 10,
     "suites": [
      {
       "cases": [],
       "scored": true,
       "setup": "",
       "teardown": "",
       "type": "doctest"
      }
     ]
    },
    "Question 12": {
     "name": "Question 12",
     "points": 10,
     "suites": [
      {
       "cases": [],
       "scored": true,
       "setup": "",
       "teardown": "",
       "type": "doctest"
      }
     ]
    },
    "Question 13": {
     "name": "Question 13",
     "points": 10,
     "suites": [
      {
       "cases": [],
       "scored": true,
       "setup": "",
       "teardown": "",
       "type": "doctest"
      }
     ]
    },
    "Question 14": {
     "name": "Question 14",
     "points": 10,
     "suites": [
      {
       "cases": [],
       "scored": true,
       "setup": "",
       "teardown": "",
       "type": "doctest"
      }
     ]
    },
    "Question 15": {
     "name": "Question 15",
     "points": 10,
     "suites": [
      {
       "cases": [],
       "scored": true,
       "setup": "",
       "teardown": "",
       "type": "doctest"
      }
     ]
    },
    "Question 16": {
     "name": "Question 16",
     "points": 10,
     "suites": [
      {
       "cases": [],
       "scored": true,
       "setup": "",
       "teardown": "",
       "type": "doctest"
      }
     ]
    }
   }
  },
  "varInspector": {
   "cols": {
    "lenName": 16,
    "lenType": 16,
    "lenVar": 40
   },
   "kernels_config": {
    "python": {
     "delete_cmd_postfix": "",
     "delete_cmd_prefix": "del ",
     "library": "var_list.py",
     "varRefreshCmd": "print(var_dic_list())"
    },
    "r": {
     "delete_cmd_postfix": ") ",
     "delete_cmd_prefix": "rm(",
     "library": "var_list.r",
     "varRefreshCmd": "cat(var_dic_list()) "
    }
   },
   "types_to_exclude": [
    "module",
    "function",
    "builtin_function_or_method",
    "instance",
    "_Feature"
   ],
   "window_display": false
  }
 },
 "nbformat": 4,
 "nbformat_minor": 4
}
