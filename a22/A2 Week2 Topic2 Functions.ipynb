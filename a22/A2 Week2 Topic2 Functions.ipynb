{
 "cells": [
  {
   "cell_type": "code",
   "execution_count": null,
   "metadata": {},
   "outputs": [],
   "source": [
    "import pandas as pd\n",
    "import numpy as np\n",
    "%matplotlib inline\n",
    "import otter\n",
    "grader = otter.Notebook()"
   ]
  },
  {
   "cell_type": "markdown",
   "metadata": {},
   "source": [
    "# A2 | Week 2: Practice Functions\n",
    "\n",
    "------\n",
    "\n",
    "### Instructions:\n",
    "\n",
    "- Complete 50 points worth of questions to pass the assessment\n",
    "  - You can attempt any number of questions and in any order provided you pass at least 50 points.\n",
    "- Develop and check your answers in the spaces provided.\n",
    "  - Do not remove any variables other provided markings already present in the answer spaces.\n",
    "  - Do not make any changes to this notebook outside of the answer spaces provided.\n",
    "  \n",
    "#### Submitting\n",
    "\n",
    "- Upload your .ipynb file to Gradescope (Make sure to restart the kernel and run all before you submit)\n",
    "- You can submit as many times as needed\n",
    "- When reviewing results, ignore any results listed under \"Public Tests\"\n",
    "\n",
    "For more information, see the assessment page. We have also provided an example question below for clarity. "
   ]
  },
  {
   "cell_type": "markdown",
   "metadata": {},
   "source": [
    "#### Question 1&nbsp;&nbsp;&nbsp;&nbsp;&nbsp;&nbsp;(3 Points)\n",
    "\n",
    "Create a Python program to define your own function named `q1_indent_string` that takes 1 parameter (a string). Your function then should return the provided string with **four** spaces added to the front of it."
   ]
  },
  {
   "cell_type": "code",
   "execution_count": 1,
   "metadata": {
    "tags": []
   },
   "outputs": [],
   "source": [
    "# Write your solution here\n",
    "\n",
    "def q1_indent_string (s):\n",
    "    s = \"    \"+s\n",
    "    return s\n",
    "\n"
   ]
  },
  {
   "cell_type": "markdown",
   "metadata": {},
   "source": [
    "#### Question 2&nbsp;&nbsp;&nbsp;&nbsp;&nbsp;&nbsp;(3 Points)\n",
    "\n",
    "Create a Python program to define your own function named `q2_ask_ultimate_question` that takes 0 parameters. Your function then should return the integer `42`."
   ]
  },
  {
   "cell_type": "code",
   "execution_count": 1,
   "metadata": {
    "tags": []
   },
   "outputs": [
    {
     "name": "stdout",
     "output_type": "stream",
     "text": [
      "42\n"
     ]
    }
   ],
   "source": [
    "# Write your solution here\n",
    "def q2_ask_ultimate_question ():\n",
    "    return 42\n",
    "\n",
    "print (q2_ask_ultimate_question())\n"
   ]
  },
  {
   "cell_type": "markdown",
   "metadata": {},
   "source": [
    "#### Question 3&nbsp;&nbsp;&nbsp;&nbsp;&nbsp;&nbsp;(3 Points)\n",
    "Create a Python program to define your own function named `q3_trim_whitespace` that takes 1 parameter (a string). Your function then should return the provided string with all spaces removed."
   ]
  },
  {
   "cell_type": "code",
   "execution_count": null,
   "metadata": {
    "tags": []
   },
   "outputs": [],
   "source": [
    "# Write your solution here\n",
    "\n",
    "def q3_trim_whitespace (s):\n",
    "    s = s.replace (\" \",\"\")\n",
    "    return s"
   ]
  },
  {
   "cell_type": "markdown",
   "metadata": {},
   "source": [
    "#### Question 4&nbsp;&nbsp;&nbsp;&nbsp;&nbsp;&nbsp;(3 Points)\n",
    "Create a Python program using the following guidelines. First, create a variable `output4` set to 0. Then below that, define your own function named `q4` that takes 0 parameters and returns `None`. Use `q4` to change `output4` to 12."
   ]
  },
  {
   "cell_type": "code",
   "execution_count": 2,
   "metadata": {
    "tags": []
   },
   "outputs": [
    {
     "name": "stdout",
     "output_type": "stream",
     "text": [
      "12\n"
     ]
    }
   ],
   "source": [
    "# Write your solution here\n",
    "output4 = 0\n",
    "\n",
    "def q4():\n",
    "    global output4\n",
    "    output4 = 12\n",
    "    return None\n",
    "\n",
    "q4()\n",
    "print(output4)"
   ]
  },
  {
   "cell_type": "markdown",
   "metadata": {},
   "source": [
    "#### Question 5&nbsp;&nbsp;&nbsp;&nbsp;&nbsp;&nbsp;(3 Points)\n",
    "Create a Python program to define your own function named `q5_float_to_int_and_round` that takes 1 parameter (a float). Your function then should return two numbers. The first is the provided number cast to an int, the second is the provided number rounded to 0 decimal places."
   ]
  },
  {
   "cell_type": "code",
   "execution_count": 3,
   "metadata": {
    "tags": []
   },
   "outputs": [
    {
     "name": "stdout",
     "output_type": "stream",
     "text": [
      "(1, 1)\n"
     ]
    }
   ],
   "source": [
    "# Write your solution here\n",
    "\n",
    "def q5_float_to_int_and_round (a):\n",
    "    x = int (a)\n",
    "    y = round(a)\n",
    "    return x,y\n",
    "\n",
    "print (q5_float_to_int_and_round(1.2))"
   ]
  },
  {
   "cell_type": "markdown",
   "metadata": {},
   "source": [
    "#### Question 6&nbsp;&nbsp;&nbsp;&nbsp;&nbsp;&nbsp;(5 Points)\n",
    "Create a Python program to define your own function named `q6_concat_strings` that takes 2 parameters (both strings). Your function then should return a new string formed by concatenating the two parameters in sequence and seperated by a space. However, if a user forgotton to pass a value to the second parameter, the default value of \"No String\" should be used."
   ]
  },
  {
   "cell_type": "code",
   "execution_count": null,
   "metadata": {
    "tags": []
   },
   "outputs": [],
   "source": [
    "# Write your solution here\n",
    "\n",
    "def q6_concat_strings (a, b=\"No String\"):\n",
    "    return a+\" \"+b\n",
    "\n"
   ]
  },
  {
   "cell_type": "markdown",
   "metadata": {},
   "source": [
    "#### Question 7&nbsp;&nbsp;&nbsp;&nbsp;&nbsp;&nbsp;(5 Points) \n",
    "Create a Python program to define your own function named `q7_multiply` that takes variable length parameters (More specifically, `*integers`). Your function then should return the product of these numbers."
   ]
  },
  {
   "cell_type": "code",
   "execution_count": null,
   "metadata": {
    "tags": []
   },
   "outputs": [],
   "source": [
    "# Write your solution here\n",
    "\n",
    "def q7_multiply (*args):\n",
    "    sum =1\n",
    "    for i in args:\n",
    "        sum *= i\n",
    "        \n",
    "    return sum\n"
   ]
  },
  {
   "cell_type": "markdown",
   "metadata": {},
   "source": [
    "#### Question 8&nbsp;&nbsp;&nbsp;&nbsp;&nbsp;&nbsp;(5 Points) \n",
    "Create a Python program to define your own function named `q8_split_number` that takes 1 parameter (an integer). Your function then should return two numbers. The first is the first digit, the second is the second digit (both should be intergers). Use the following guidelines when developing this program.\n",
    "1. If the number is negative, make it positive (e.g., -12 to 12)\n",
    "2. If the number is in the range of 0 to 9 (including both 0 and 9), use the default value of 10."
   ]
  },
  {
   "cell_type": "code",
   "execution_count": 13,
   "metadata": {
    "tags": []
   },
   "outputs": [
    {
     "name": "stdout",
     "output_type": "stream",
     "text": [
      "(1, 2)\n",
      "(3, 4)\n",
      "(1, 2)\n",
      "(1, 0)\n"
     ]
    }
   ],
   "source": [
    "# Write your solution here\n",
    "\n",
    "def q8_split_number (a):\n",
    "    if a < 0:\n",
    "        a = abs(a)\n",
    "    if a >= 0 and a <= 9:\n",
    "        a = 10\n",
    "    x = a %10\n",
    "    a = a // 10\n",
    "    y = a % 10\n",
    "    return y,x\n",
    "\n",
    "print(q8_split_number(12))\n",
    "print(q8_split_number(34))\n",
    "print(q8_split_number(-12))\n",
    "print(q8_split_number(9))"
   ]
  },
  {
   "cell_type": "markdown",
   "metadata": {},
   "source": [
    "#### Question 9&nbsp;&nbsp;&nbsp;&nbsp;&nbsp;&nbsp;(5 Points)\n",
    "Create a Python program to define your own function named `q9_increment_number` that takes 1 or 2 parameters (both integers). The first parameter is mandatory and the second is optional. Your function should return the sum of both parameters. If the optional parameter is absent, it should increase the number by one."
   ]
  },
  {
   "cell_type": "code",
   "execution_count": 20,
   "metadata": {
    "tags": []
   },
   "outputs": [
    {
     "name": "stdout",
     "output_type": "stream",
     "text": [
      "11\n",
      "6\n"
     ]
    }
   ],
   "source": [
    "# Write your solution here\n",
    "\n",
    "def q9_increment_number (*args):\n",
    "    sum = 0\n",
    "    if (len(args) == 1):\n",
    "        sum = 1\n",
    "    for i in args:\n",
    "        sum += i\n",
    "    return sum\n",
    "\n",
    "print (q9_increment_number(5,6))\n",
    "print (q9_increment_number(5))"
   ]
  },
  {
   "cell_type": "markdown",
   "metadata": {},
   "source": [
    "#### Question 10&nbsp;&nbsp;&nbsp;&nbsp;&nbsp;&nbsp;(5 Points)\n",
    "Create a Python program to define your own function named `q10_indent_string` that takes 1 or 2 parameters. The first parameter is a string and is mandatory and the second is an optional postive integer. Your function then should return the provided string with a number spaces added to the front of it equal to the value of the first. If the optional parameter is absent, it should add four spaces."
   ]
  },
  {
   "cell_type": "code",
   "execution_count": 25,
   "metadata": {
    "tags": []
   },
   "outputs": [
    {
     "name": "stdout",
     "output_type": "stream",
     "text": [
      "    John\n"
     ]
    }
   ],
   "source": [
    "# Write your solution here\n",
    "def q10_indent_string (s , i=4):\n",
    "    z = \" \"\n",
    "    return z*i+s\n",
    "\n",
    "print (q10_indent_string(\"John\"))"
   ]
  },
  {
   "cell_type": "markdown",
   "metadata": {},
   "source": [
    "#### Question 11&nbsp;&nbsp;&nbsp;&nbsp;&nbsp;&nbsp;(10 Points)\n",
    "Create a Python program to define your own function named `q11_args_length` that takes some number of arbitrary arguments. Your function should return the number of arguments."
   ]
  },
  {
   "cell_type": "code",
   "execution_count": null,
   "metadata": {
    "tags": []
   },
   "outputs": [],
   "source": [
    "# Write your solution here\n",
    "def q11_args_length (*args):\n",
    "    return len(args)\n"
   ]
  },
  {
   "cell_type": "markdown",
   "metadata": {},
   "source": [
    "#### Question 12&nbsp;&nbsp;&nbsp;&nbsp;&nbsp;&nbsp;(10 Points)\n",
    "Create a Python program to define your own function named `q12_get_id` that takes some number of arbitrary keyword arguments. One of the arguments, you do not know which, uses \"id\" as its key. Find the value paired with that key."
   ]
  },
  {
   "cell_type": "code",
   "execution_count": 32,
   "metadata": {
    "tags": []
   },
   "outputs": [
    {
     "name": "stdout",
     "output_type": "stream",
     "text": [
      "1\n"
     ]
    }
   ],
   "source": [
    "# Write your solution here\n",
    "def q12_get_id (**kargs):\n",
    "#     print (kargs)\n",
    "    for i in kargs:\n",
    "        if i == \"id\":\n",
    "            a = kargs[i]\n",
    "    return a\n",
    "\n",
    "print (q12_get_id(john=12,id=1))\n"
   ]
  },
  {
   "cell_type": "markdown",
   "metadata": {},
   "source": [
    "#### Question 13&nbsp;&nbsp;&nbsp;&nbsp;&nbsp;&nbsp;(10 Points)\n",
    "Create a Python program to construct your own anonymous function and assign it to a variable `q13_function` (as you saw in the content). Your function should find the area of a triangle (as a float), given two dimensions as positive integers."
   ]
  },
  {
   "cell_type": "code",
   "execution_count": 33,
   "metadata": {
    "tags": []
   },
   "outputs": [],
   "source": [
    "# Write your solution here\n",
    "q13_function = lambda a,b: 0.5 * a * b\n"
   ]
  },
  {
   "cell_type": "markdown",
   "metadata": {},
   "source": [
    "#### Question 14&nbsp;&nbsp;&nbsp;&nbsp;&nbsp;&nbsp;(10 Points)\n",
    "Create a Python program to define your own function named `q14_count_to_from` that takes 1 or 2 parameters (both are integers). The function should meet the following criteria.\n",
    "1. The first parameter represents the number at which the function stops counting, while the second is optional and represents the number the function begins counting from. If the second parameter is absent, it should default to 0.\n",
    "2. The function should return a string of every number from the start to the stop (including the starting and stopping values). Each number should be seperated by a space, without any trailing whitespace on the end.\n",
    "3. The function should also return an empty string if the stop is less than start, or if both the numbers are the same."
   ]
  },
  {
   "cell_type": "code",
   "execution_count": 4,
   "metadata": {
    "tags": []
   },
   "outputs": [
    {
     "name": "stdout",
     "output_type": "stream",
     "text": [
      "1 2 3 4 5 6 7 8 9 10\n"
     ]
    },
    {
     "data": {
      "text/plain": [
       "''"
      ]
     },
     "execution_count": 4,
     "metadata": {},
     "output_type": "execute_result"
    }
   ],
   "source": [
    "# Write your solution here\n",
    "\n",
    "def q14_count_to_from (stop , start=0):\n",
    "    s = \"\"\n",
    "    if stop < start or start == stop:\n",
    "        return s\n",
    "    for i in range (start, stop+1):\n",
    "        s = s + str(i) + \" \"\n",
    "        \n",
    "    return s.strip()\n",
    "\n",
    "print (q14_count_to_from(10,1))\n",
    "a = q14_count_to_from(1,10)\n",
    "a"
   ]
  },
  {
   "cell_type": "markdown",
   "metadata": {},
   "source": [
    "#### Question 15 &nbsp;&nbsp;&nbsp;&nbsp;&nbsp;&nbsp;(10 Points) \n",
    "Create a Python program to define your own function named `q15_show_stars` to return the pattern below (i.e., the returned value should be a string using `output15` variable). This function takes two parameters, as discussed in the below guidliens.\n",
    "1. Number of rows in the pattern. If nothing is provided the default value need to be 6 rows (as shown in the pattern below).\n",
    "2. Pattern type. If nothing is provided used stars (`*`), as shown in the pattern below.\n",
    "\n",
    "```\n",
    "*\n",
    "**\n",
    "***\n",
    "****\n",
    "*****\n",
    "******\n",
    "```"
   ]
  },
  {
   "cell_type": "code",
   "execution_count": null,
   "metadata": {
    "tags": []
   },
   "outputs": [],
   "source": [
    "# Write your solution here\n",
    "\n"
   ]
  },
  {
   "cell_type": "markdown",
   "metadata": {},
   "source": [
    "#### Question 16 &nbsp;&nbsp;&nbsp;&nbsp;&nbsp;&nbsp;(10 Points)\n",
    "Create a Python program to define your own function named `q16_divisible` that will take in an unknown number of arguments and multiply all of the together that are only divisible by 3. Use the following guidelines when implementing this program.\n",
    "1. If the user has mistakenly entered `0`, ignore this number in the calculations. \n",
    "2. If the user has entered any negative numbers, ignore them in the calculations.\n",
    "3. Your function should return three values. First, the count of numbers that are divisbile by 3. Second, the list of numbers that are divisible by 3. Third, the multiplied value of the numbers that are divisible by 3."
   ]
  },
  {
   "cell_type": "code",
   "execution_count": 5,
   "metadata": {
    "tags": []
   },
   "outputs": [
    {
     "data": {
      "text/plain": [
       "(3, [3, 6, 12], 216)"
      ]
     },
     "execution_count": 5,
     "metadata": {},
     "output_type": "execute_result"
    }
   ],
   "source": [
    "# Write your solution here\n",
    "\n",
    "def q16_divisible (*args):\n",
    "    sum = 1\n",
    "    count = 0\n",
    "    l1 = []\n",
    "    for i in args:\n",
    "        if i == 0 or i < 0:\n",
    "            continue\n",
    "        if i % 3 == 0:\n",
    "            count += 1\n",
    "            sum *= i\n",
    "            l1.append(i)\n",
    "            \n",
    "    return count, l1, sum\n",
    "        \n",
    "q16_divisible(1,2,3,4,5, 0, -12, 6, 12)"
   ]
  }
 ],
 "metadata": {
  "celltoolbar": "Edit Metadata",
  "kernelspec": {
   "display_name": "Python 3 (ipykernel)",
   "language": "python",
   "name": "python3"
  },
  "language_info": {
   "codemirror_mode": {
    "name": "ipython",
    "version": 3
   },
   "file_extension": ".py",
   "mimetype": "text/x-python",
   "name": "python",
   "nbconvert_exporter": "python",
   "pygments_lexer": "ipython3",
   "version": "3.9.12"
  },
  "otter": {
   "tests": {
    "Question 01": {
     "name": "Question 01",
     "points": 3,
     "suites": [
      {
       "cases": [],
       "scored": true,
       "setup": "",
       "teardown": "",
       "type": "doctest"
      }
     ]
    },
    "Question 02": {
     "name": "Question 02",
     "points": 3,
     "suites": [
      {
       "cases": [],
       "scored": true,
       "setup": "",
       "teardown": "",
       "type": "doctest"
      }
     ]
    },
    "Question 03": {
     "name": "Question 03",
     "points": 3,
     "suites": [
      {
       "cases": [],
       "scored": true,
       "setup": "",
       "teardown": "",
       "type": "doctest"
      }
     ]
    },
    "Question 04": {
     "name": "Question 04",
     "points": 3,
     "suites": [
      {
       "cases": [],
       "scored": true,
       "setup": "",
       "teardown": "",
       "type": "doctest"
      }
     ]
    },
    "Question 05": {
     "name": "Question 05",
     "points": 3,
     "suites": [
      {
       "cases": [],
       "scored": true,
       "setup": "",
       "teardown": "",
       "type": "doctest"
      }
     ]
    },
    "Question 06": {
     "name": "Question 06",
     "points": 5,
     "suites": [
      {
       "cases": [],
       "scored": true,
       "setup": "",
       "teardown": "",
       "type": "doctest"
      }
     ]
    },
    "Question 07": {
     "name": "Question 07",
     "points": 5,
     "suites": [
      {
       "cases": [],
       "scored": true,
       "setup": "",
       "teardown": "",
       "type": "doctest"
      }
     ]
    },
    "Question 08": {
     "name": "Question 08",
     "points": 5,
     "suites": [
      {
       "cases": [],
       "scored": true,
       "setup": "",
       "teardown": "",
       "type": "doctest"
      }
     ]
    },
    "Question 09": {
     "name": "Question 09",
     "points": 5,
     "suites": [
      {
       "cases": [],
       "scored": true,
       "setup": "",
       "teardown": "",
       "type": "doctest"
      }
     ]
    },
    "Question 10": {
     "name": "Question 10",
     "points": 5,
     "suites": [
      {
       "cases": [],
       "scored": true,
       "setup": "",
       "teardown": "",
       "type": "doctest"
      }
     ]
    },
    "Question 11": {
     "name": "Question 11",
     "points": 10,
     "suites": [
      {
       "cases": [],
       "scored": true,
       "setup": "",
       "teardown": "",
       "type": "doctest"
      }
     ]
    },
    "Question 12": {
     "name": "Question 12",
     "points": 10,
     "suites": [
      {
       "cases": [],
       "scored": true,
       "setup": "",
       "teardown": "",
       "type": "doctest"
      }
     ]
    },
    "Question 13": {
     "name": "Question 13",
     "points": 10,
     "suites": [
      {
       "cases": [],
       "scored": true,
       "setup": "",
       "teardown": "",
       "type": "doctest"
      }
     ]
    },
    "Question 14": {
     "name": "Question 14",
     "points": 10,
     "suites": [
      {
       "cases": [],
       "scored": true,
       "setup": "",
       "teardown": "",
       "type": "doctest"
      }
     ]
    },
    "Question 15": {
     "name": "Question 15",
     "points": 10,
     "suites": [
      {
       "cases": [],
       "scored": true,
       "setup": "",
       "teardown": "",
       "type": "doctest"
      }
     ]
    },
    "Question 16": {
     "name": "Question 16",
     "points": 10,
     "suites": [
      {
       "cases": [],
       "scored": true,
       "setup": "",
       "teardown": "",
       "type": "doctest"
      }
     ]
    }
   }
  },
  "varInspector": {
   "cols": {
    "lenName": 16,
    "lenType": 16,
    "lenVar": 40
   },
   "kernels_config": {
    "python": {
     "delete_cmd_postfix": "",
     "delete_cmd_prefix": "del ",
     "library": "var_list.py",
     "varRefreshCmd": "print(var_dic_list())"
    },
    "r": {
     "delete_cmd_postfix": ") ",
     "delete_cmd_prefix": "rm(",
     "library": "var_list.r",
     "varRefreshCmd": "cat(var_dic_list()) "
    }
   },
   "types_to_exclude": [
    "module",
    "function",
    "builtin_function_or_method",
    "instance",
    "_Feature"
   ],
   "window_display": false
  }
 },
 "nbformat": 4,
 "nbformat_minor": 4
}
